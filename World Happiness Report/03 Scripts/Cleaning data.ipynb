{
 "cells": [
  {
   "cell_type": "code",
   "execution_count": 1,
   "id": "cef59a01",
   "metadata": {},
   "outputs": [],
   "source": [
    "# Importing data\n",
    "import pandas as pd\n",
    "import numpy as np\n",
    "import os"
   ]
  },
  {
   "cell_type": "code",
   "execution_count": 2,
   "id": "5ece57a9",
   "metadata": {},
   "outputs": [],
   "source": [
    "path = r'C:\\Users\\katro\\World Happiness Report'"
   ]
  },
  {
   "cell_type": "code",
   "execution_count": 3,
   "id": "f491944c",
   "metadata": {},
   "outputs": [],
   "source": [
    "df_2015 = pd.read_csv(os.path.join(path, '02 Data', 'Original Data', '2015.csv'))\n",
    "df_2016 = pd.read_csv(os.path.join(path, '02 Data', 'Original Data', '2016.csv'))\n",
    "df_2017 = pd.read_csv(os.path.join(path, '02 Data', 'Original Data', '2017.csv'))\n",
    "df_2018 = pd.read_csv(os.path.join(path, '02 Data', 'Original Data', '2018.csv'))\n",
    "df_2019 = pd.read_csv(os.path.join(path, '02 Data', 'Original Data', '2019.csv'))"
   ]
  },
  {
   "cell_type": "code",
   "execution_count": 4,
   "id": "3130518d",
   "metadata": {},
   "outputs": [
    {
     "data": {
      "text/html": [
       "<div>\n",
       "<style scoped>\n",
       "    .dataframe tbody tr th:only-of-type {\n",
       "        vertical-align: middle;\n",
       "    }\n",
       "\n",
       "    .dataframe tbody tr th {\n",
       "        vertical-align: top;\n",
       "    }\n",
       "\n",
       "    .dataframe thead th {\n",
       "        text-align: right;\n",
       "    }\n",
       "</style>\n",
       "<table border=\"1\" class=\"dataframe\">\n",
       "  <thead>\n",
       "    <tr style=\"text-align: right;\">\n",
       "      <th></th>\n",
       "      <th>Year</th>\n",
       "      <th>Country</th>\n",
       "      <th>Region</th>\n",
       "      <th>Happiness Rank</th>\n",
       "      <th>Happiness Score</th>\n",
       "      <th>Economy (GDP per Capita)</th>\n",
       "      <th>Family</th>\n",
       "      <th>Health (Life Expectancy)</th>\n",
       "      <th>Freedom</th>\n",
       "      <th>Trust (Government Corruption)</th>\n",
       "      <th>Generosity</th>\n",
       "      <th>Dystopia Residual</th>\n",
       "    </tr>\n",
       "  </thead>\n",
       "  <tbody>\n",
       "    <tr>\n",
       "      <th>0</th>\n",
       "      <td>2015</td>\n",
       "      <td>Switzerland</td>\n",
       "      <td>Western Europe</td>\n",
       "      <td>1</td>\n",
       "      <td>7.587</td>\n",
       "      <td>1.39651</td>\n",
       "      <td>1.34951</td>\n",
       "      <td>0.94143</td>\n",
       "      <td>0.66557</td>\n",
       "      <td>0.41978</td>\n",
       "      <td>0.29678</td>\n",
       "      <td>2.51738</td>\n",
       "    </tr>\n",
       "    <tr>\n",
       "      <th>1</th>\n",
       "      <td>2015</td>\n",
       "      <td>Iceland</td>\n",
       "      <td>Western Europe</td>\n",
       "      <td>2</td>\n",
       "      <td>7.561</td>\n",
       "      <td>1.30232</td>\n",
       "      <td>1.40223</td>\n",
       "      <td>0.94784</td>\n",
       "      <td>0.62877</td>\n",
       "      <td>0.14145</td>\n",
       "      <td>0.43630</td>\n",
       "      <td>2.70201</td>\n",
       "    </tr>\n",
       "    <tr>\n",
       "      <th>2</th>\n",
       "      <td>2015</td>\n",
       "      <td>Denmark</td>\n",
       "      <td>Western Europe</td>\n",
       "      <td>3</td>\n",
       "      <td>7.527</td>\n",
       "      <td>1.32548</td>\n",
       "      <td>1.36058</td>\n",
       "      <td>0.87464</td>\n",
       "      <td>0.64938</td>\n",
       "      <td>0.48357</td>\n",
       "      <td>0.34139</td>\n",
       "      <td>2.49204</td>\n",
       "    </tr>\n",
       "    <tr>\n",
       "      <th>3</th>\n",
       "      <td>2015</td>\n",
       "      <td>Norway</td>\n",
       "      <td>Western Europe</td>\n",
       "      <td>4</td>\n",
       "      <td>7.522</td>\n",
       "      <td>1.45900</td>\n",
       "      <td>1.33095</td>\n",
       "      <td>0.88521</td>\n",
       "      <td>0.66973</td>\n",
       "      <td>0.36503</td>\n",
       "      <td>0.34699</td>\n",
       "      <td>2.46531</td>\n",
       "    </tr>\n",
       "    <tr>\n",
       "      <th>4</th>\n",
       "      <td>2015</td>\n",
       "      <td>Canada</td>\n",
       "      <td>North America</td>\n",
       "      <td>5</td>\n",
       "      <td>7.427</td>\n",
       "      <td>1.32629</td>\n",
       "      <td>1.32261</td>\n",
       "      <td>0.90563</td>\n",
       "      <td>0.63297</td>\n",
       "      <td>0.32957</td>\n",
       "      <td>0.45811</td>\n",
       "      <td>2.45176</td>\n",
       "    </tr>\n",
       "  </tbody>\n",
       "</table>\n",
       "</div>"
      ],
      "text/plain": [
       "   Year      Country          Region  Happiness Rank  Happiness Score  \\\n",
       "0  2015  Switzerland  Western Europe               1            7.587   \n",
       "1  2015      Iceland  Western Europe               2            7.561   \n",
       "2  2015      Denmark  Western Europe               3            7.527   \n",
       "3  2015       Norway  Western Europe               4            7.522   \n",
       "4  2015       Canada   North America               5            7.427   \n",
       "\n",
       "   Economy (GDP per Capita)   Family  Health (Life Expectancy)  Freedom  \\\n",
       "0                   1.39651  1.34951                   0.94143  0.66557   \n",
       "1                   1.30232  1.40223                   0.94784  0.62877   \n",
       "2                   1.32548  1.36058                   0.87464  0.64938   \n",
       "3                   1.45900  1.33095                   0.88521  0.66973   \n",
       "4                   1.32629  1.32261                   0.90563  0.63297   \n",
       "\n",
       "   Trust (Government Corruption)  Generosity  Dystopia Residual  \n",
       "0                        0.41978     0.29678            2.51738  \n",
       "1                        0.14145     0.43630            2.70201  \n",
       "2                        0.48357     0.34139            2.49204  \n",
       "3                        0.36503     0.34699            2.46531  \n",
       "4                        0.32957     0.45811            2.45176  "
      ]
     },
     "execution_count": 4,
     "metadata": {},
     "output_type": "execute_result"
    }
   ],
   "source": [
    "df_2015.head()"
   ]
  },
  {
   "cell_type": "code",
   "execution_count": 5,
   "id": "50232adb",
   "metadata": {},
   "outputs": [],
   "source": [
    "# Concatenating data\n",
    "\n",
    "frames = [df_2015, df_2016, df_2017, df_2018, df_2019]\n",
    "df_merge = pd.concat(frames)"
   ]
  },
  {
   "cell_type": "code",
   "execution_count": 6,
   "id": "8aca6865",
   "metadata": {},
   "outputs": [
    {
     "data": {
      "text/plain": [
       "(782, 12)"
      ]
     },
     "execution_count": 6,
     "metadata": {},
     "output_type": "execute_result"
    }
   ],
   "source": [
    "df_merge.shape"
   ]
  },
  {
   "cell_type": "code",
   "execution_count": 7,
   "id": "143ec7c3",
   "metadata": {},
   "outputs": [
    {
     "data": {
      "text/html": [
       "<div>\n",
       "<style scoped>\n",
       "    .dataframe tbody tr th:only-of-type {\n",
       "        vertical-align: middle;\n",
       "    }\n",
       "\n",
       "    .dataframe tbody tr th {\n",
       "        vertical-align: top;\n",
       "    }\n",
       "\n",
       "    .dataframe thead th {\n",
       "        text-align: right;\n",
       "    }\n",
       "</style>\n",
       "<table border=\"1\" class=\"dataframe\">\n",
       "  <thead>\n",
       "    <tr style=\"text-align: right;\">\n",
       "      <th></th>\n",
       "      <th>Year</th>\n",
       "      <th>Country</th>\n",
       "      <th>Region</th>\n",
       "      <th>Happiness Rank</th>\n",
       "      <th>Happiness Score</th>\n",
       "      <th>Economy (GDP per Capita)</th>\n",
       "      <th>Family</th>\n",
       "      <th>Health (Life Expectancy)</th>\n",
       "      <th>Freedom</th>\n",
       "      <th>Trust (Government Corruption)</th>\n",
       "      <th>Generosity</th>\n",
       "      <th>Dystopia Residual</th>\n",
       "    </tr>\n",
       "  </thead>\n",
       "  <tbody>\n",
       "    <tr>\n",
       "      <th>0</th>\n",
       "      <td>2015</td>\n",
       "      <td>Switzerland</td>\n",
       "      <td>Western Europe</td>\n",
       "      <td>1</td>\n",
       "      <td>7.587</td>\n",
       "      <td>1.39651</td>\n",
       "      <td>1.34951</td>\n",
       "      <td>0.94143</td>\n",
       "      <td>0.66557</td>\n",
       "      <td>0.41978</td>\n",
       "      <td>0.29678</td>\n",
       "      <td>2.51738</td>\n",
       "    </tr>\n",
       "    <tr>\n",
       "      <th>1</th>\n",
       "      <td>2015</td>\n",
       "      <td>Iceland</td>\n",
       "      <td>Western Europe</td>\n",
       "      <td>2</td>\n",
       "      <td>7.561</td>\n",
       "      <td>1.30232</td>\n",
       "      <td>1.40223</td>\n",
       "      <td>0.94784</td>\n",
       "      <td>0.62877</td>\n",
       "      <td>0.14145</td>\n",
       "      <td>0.43630</td>\n",
       "      <td>2.70201</td>\n",
       "    </tr>\n",
       "    <tr>\n",
       "      <th>2</th>\n",
       "      <td>2015</td>\n",
       "      <td>Denmark</td>\n",
       "      <td>Western Europe</td>\n",
       "      <td>3</td>\n",
       "      <td>7.527</td>\n",
       "      <td>1.32548</td>\n",
       "      <td>1.36058</td>\n",
       "      <td>0.87464</td>\n",
       "      <td>0.64938</td>\n",
       "      <td>0.48357</td>\n",
       "      <td>0.34139</td>\n",
       "      <td>2.49204</td>\n",
       "    </tr>\n",
       "    <tr>\n",
       "      <th>3</th>\n",
       "      <td>2015</td>\n",
       "      <td>Norway</td>\n",
       "      <td>Western Europe</td>\n",
       "      <td>4</td>\n",
       "      <td>7.522</td>\n",
       "      <td>1.45900</td>\n",
       "      <td>1.33095</td>\n",
       "      <td>0.88521</td>\n",
       "      <td>0.66973</td>\n",
       "      <td>0.36503</td>\n",
       "      <td>0.34699</td>\n",
       "      <td>2.46531</td>\n",
       "    </tr>\n",
       "    <tr>\n",
       "      <th>4</th>\n",
       "      <td>2015</td>\n",
       "      <td>Canada</td>\n",
       "      <td>North America</td>\n",
       "      <td>5</td>\n",
       "      <td>7.427</td>\n",
       "      <td>1.32629</td>\n",
       "      <td>1.32261</td>\n",
       "      <td>0.90563</td>\n",
       "      <td>0.63297</td>\n",
       "      <td>0.32957</td>\n",
       "      <td>0.45811</td>\n",
       "      <td>2.45176</td>\n",
       "    </tr>\n",
       "  </tbody>\n",
       "</table>\n",
       "</div>"
      ],
      "text/plain": [
       "   Year      Country          Region  Happiness Rank  Happiness Score  \\\n",
       "0  2015  Switzerland  Western Europe               1            7.587   \n",
       "1  2015      Iceland  Western Europe               2            7.561   \n",
       "2  2015      Denmark  Western Europe               3            7.527   \n",
       "3  2015       Norway  Western Europe               4            7.522   \n",
       "4  2015       Canada   North America               5            7.427   \n",
       "\n",
       "   Economy (GDP per Capita)   Family  Health (Life Expectancy)  Freedom  \\\n",
       "0                   1.39651  1.34951                   0.94143  0.66557   \n",
       "1                   1.30232  1.40223                   0.94784  0.62877   \n",
       "2                   1.32548  1.36058                   0.87464  0.64938   \n",
       "3                   1.45900  1.33095                   0.88521  0.66973   \n",
       "4                   1.32629  1.32261                   0.90563  0.63297   \n",
       "\n",
       "   Trust (Government Corruption)  Generosity  Dystopia Residual  \n",
       "0                        0.41978     0.29678            2.51738  \n",
       "1                        0.14145     0.43630            2.70201  \n",
       "2                        0.48357     0.34139            2.49204  \n",
       "3                        0.36503     0.34699            2.46531  \n",
       "4                        0.32957     0.45811            2.45176  "
      ]
     },
     "execution_count": 7,
     "metadata": {},
     "output_type": "execute_result"
    }
   ],
   "source": [
    "df_merge.head()"
   ]
  },
  {
   "cell_type": "code",
   "execution_count": 12,
   "id": "54803d2c",
   "metadata": {},
   "outputs": [
    {
     "name": "stdout",
     "output_type": "stream",
     "text": [
      "Region\n"
     ]
    },
    {
     "name": "stderr",
     "output_type": "stream",
     "text": [
      "C:\\Users\\katro\\AppData\\Local\\Temp\\ipykernel_19204\\3995218763.py:4: FutureWarning: DataFrame.applymap has been deprecated. Use DataFrame.map instead.\n",
      "  weird = (df_merge[[col]].applymap(type) != df_merge[[col]].iloc[0].apply(type)).any(axis=1)\n",
      "C:\\Users\\katro\\AppData\\Local\\Temp\\ipykernel_19204\\3995218763.py:4: FutureWarning: DataFrame.applymap has been deprecated. Use DataFrame.map instead.\n",
      "  weird = (df_merge[[col]].applymap(type) != df_merge[[col]].iloc[0].apply(type)).any(axis=1)\n",
      "C:\\Users\\katro\\AppData\\Local\\Temp\\ipykernel_19204\\3995218763.py:4: FutureWarning: DataFrame.applymap has been deprecated. Use DataFrame.map instead.\n",
      "  weird = (df_merge[[col]].applymap(type) != df_merge[[col]].iloc[0].apply(type)).any(axis=1)\n",
      "C:\\Users\\katro\\AppData\\Local\\Temp\\ipykernel_19204\\3995218763.py:4: FutureWarning: DataFrame.applymap has been deprecated. Use DataFrame.map instead.\n",
      "  weird = (df_merge[[col]].applymap(type) != df_merge[[col]].iloc[0].apply(type)).any(axis=1)\n",
      "C:\\Users\\katro\\AppData\\Local\\Temp\\ipykernel_19204\\3995218763.py:4: FutureWarning: DataFrame.applymap has been deprecated. Use DataFrame.map instead.\n",
      "  weird = (df_merge[[col]].applymap(type) != df_merge[[col]].iloc[0].apply(type)).any(axis=1)\n",
      "C:\\Users\\katro\\AppData\\Local\\Temp\\ipykernel_19204\\3995218763.py:4: FutureWarning: DataFrame.applymap has been deprecated. Use DataFrame.map instead.\n",
      "  weird = (df_merge[[col]].applymap(type) != df_merge[[col]].iloc[0].apply(type)).any(axis=1)\n",
      "C:\\Users\\katro\\AppData\\Local\\Temp\\ipykernel_19204\\3995218763.py:4: FutureWarning: DataFrame.applymap has been deprecated. Use DataFrame.map instead.\n",
      "  weird = (df_merge[[col]].applymap(type) != df_merge[[col]].iloc[0].apply(type)).any(axis=1)\n",
      "C:\\Users\\katro\\AppData\\Local\\Temp\\ipykernel_19204\\3995218763.py:4: FutureWarning: DataFrame.applymap has been deprecated. Use DataFrame.map instead.\n",
      "  weird = (df_merge[[col]].applymap(type) != df_merge[[col]].iloc[0].apply(type)).any(axis=1)\n",
      "C:\\Users\\katro\\AppData\\Local\\Temp\\ipykernel_19204\\3995218763.py:4: FutureWarning: DataFrame.applymap has been deprecated. Use DataFrame.map instead.\n",
      "  weird = (df_merge[[col]].applymap(type) != df_merge[[col]].iloc[0].apply(type)).any(axis=1)\n",
      "C:\\Users\\katro\\AppData\\Local\\Temp\\ipykernel_19204\\3995218763.py:4: FutureWarning: DataFrame.applymap has been deprecated. Use DataFrame.map instead.\n",
      "  weird = (df_merge[[col]].applymap(type) != df_merge[[col]].iloc[0].apply(type)).any(axis=1)\n",
      "C:\\Users\\katro\\AppData\\Local\\Temp\\ipykernel_19204\\3995218763.py:4: FutureWarning: DataFrame.applymap has been deprecated. Use DataFrame.map instead.\n",
      "  weird = (df_merge[[col]].applymap(type) != df_merge[[col]].iloc[0].apply(type)).any(axis=1)\n",
      "C:\\Users\\katro\\AppData\\Local\\Temp\\ipykernel_19204\\3995218763.py:4: FutureWarning: DataFrame.applymap has been deprecated. Use DataFrame.map instead.\n",
      "  weird = (df_merge[[col]].applymap(type) != df_merge[[col]].iloc[0].apply(type)).any(axis=1)\n"
     ]
    }
   ],
   "source": [
    "# Checking for mixed value types\n",
    "\n",
    "for col in df_merge.columns.tolist():\n",
    "    weird = (df_merge[[col]].applymap(type) != df_merge[[col]].iloc[0].apply(type)).any(axis=1)\n",
    "    if len(df_merge[weird])>0:\n",
    "        print(col)"
   ]
  },
  {
   "cell_type": "code",
   "execution_count": 14,
   "id": "0dde05ff",
   "metadata": {},
   "outputs": [],
   "source": [
    "# Converting region to string\n",
    "\n",
    "df_merge['Region'] = df_merge['Region'].astype('str')"
   ]
  },
  {
   "cell_type": "code",
   "execution_count": 15,
   "id": "b3dc598f",
   "metadata": {},
   "outputs": [
    {
     "data": {
      "text/plain": [
       "Year                               0\n",
       "Country                            0\n",
       "Region                             0\n",
       "Happiness Rank                     0\n",
       "Happiness Score                    0\n",
       "Economy (GDP per Capita)           0\n",
       "Family                             0\n",
       "Health (Life Expectancy)           0\n",
       "Freedom                            0\n",
       "Trust (Government Corruption)      1\n",
       "Generosity                         0\n",
       "Dystopia Residual                312\n",
       "dtype: int64"
      ]
     },
     "execution_count": 15,
     "metadata": {},
     "output_type": "execute_result"
    }
   ],
   "source": [
    "# Finding missing values\n",
    "\n",
    "df_merge.isnull().sum()"
   ]
  },
  {
   "cell_type": "code",
   "execution_count": 18,
   "id": "92840833",
   "metadata": {},
   "outputs": [],
   "source": [
    "# Dropping Dystopian Residual column due to too many missing values\n",
    "\n",
    "df_merged = df_merge.drop(columns = ['Dystopia Residual'])"
   ]
  },
  {
   "cell_type": "code",
   "execution_count": 20,
   "id": "d4576a93",
   "metadata": {},
   "outputs": [],
   "source": [
    "# Creating a subset of the missing value in Trust (Government Corruption)\n",
    "\n",
    "df_nan = df_merged[df_merged['Trust (Government Corruption)'].isnull() == True]"
   ]
  },
  {
   "cell_type": "code",
   "execution_count": 21,
   "id": "f8b1cbe2",
   "metadata": {},
   "outputs": [
    {
     "data": {
      "text/html": [
       "<div>\n",
       "<style scoped>\n",
       "    .dataframe tbody tr th:only-of-type {\n",
       "        vertical-align: middle;\n",
       "    }\n",
       "\n",
       "    .dataframe tbody tr th {\n",
       "        vertical-align: top;\n",
       "    }\n",
       "\n",
       "    .dataframe thead th {\n",
       "        text-align: right;\n",
       "    }\n",
       "</style>\n",
       "<table border=\"1\" class=\"dataframe\">\n",
       "  <thead>\n",
       "    <tr style=\"text-align: right;\">\n",
       "      <th></th>\n",
       "      <th>Year</th>\n",
       "      <th>Country</th>\n",
       "      <th>Region</th>\n",
       "      <th>Happiness Rank</th>\n",
       "      <th>Happiness Score</th>\n",
       "      <th>Economy (GDP per Capita)</th>\n",
       "      <th>Family</th>\n",
       "      <th>Health (Life Expectancy)</th>\n",
       "      <th>Freedom</th>\n",
       "      <th>Trust (Government Corruption)</th>\n",
       "      <th>Generosity</th>\n",
       "    </tr>\n",
       "  </thead>\n",
       "  <tbody>\n",
       "    <tr>\n",
       "      <th>19</th>\n",
       "      <td>2018</td>\n",
       "      <td>United Arab Emirates</td>\n",
       "      <td>nan</td>\n",
       "      <td>20</td>\n",
       "      <td>6.774</td>\n",
       "      <td>2.096</td>\n",
       "      <td>0.776</td>\n",
       "      <td>0.67</td>\n",
       "      <td>0.284</td>\n",
       "      <td>NaN</td>\n",
       "      <td>0.186</td>\n",
       "    </tr>\n",
       "  </tbody>\n",
       "</table>\n",
       "</div>"
      ],
      "text/plain": [
       "    Year               Country Region  Happiness Rank  Happiness Score  \\\n",
       "19  2018  United Arab Emirates    nan              20            6.774   \n",
       "\n",
       "    Economy (GDP per Capita)  Family  Health (Life Expectancy)  Freedom  \\\n",
       "19                     2.096   0.776                      0.67    0.284   \n",
       "\n",
       "    Trust (Government Corruption)  Generosity  \n",
       "19                            NaN       0.186  "
      ]
     },
     "execution_count": 21,
     "metadata": {},
     "output_type": "execute_result"
    }
   ],
   "source": [
    "df_nan"
   ]
  },
  {
   "cell_type": "code",
   "execution_count": 24,
   "id": "28dad8f5",
   "metadata": {},
   "outputs": [
    {
     "data": {
      "text/plain": [
       "Year\n",
       "2015    0.143422\n",
       "2016    0.137624\n",
       "2017    0.123120\n",
       "2018    0.112000\n",
       "2019    0.110603\n",
       "Name: Trust (Government Corruption), dtype: float64"
      ]
     },
     "execution_count": 24,
     "metadata": {},
     "output_type": "execute_result"
    }
   ],
   "source": [
    "# Finding the mean of Trust (Government Corruption)\n",
    "\n",
    "df_merged.groupby('Year')['Trust (Government Corruption)'].mean()"
   ]
  },
  {
   "cell_type": "code",
   "execution_count": 25,
   "id": "51a46541",
   "metadata": {},
   "outputs": [],
   "source": [
    "# Replaced the missing value in Trust (Government Corruption) with the mean of the year 2018\n",
    "\n",
    "df_merged['Trust (Government Corruption)'].fillna(0.112, inplace = True)"
   ]
  },
  {
   "cell_type": "code",
   "execution_count": 28,
   "id": "ff21d6c2",
   "metadata": {},
   "outputs": [
    {
     "data": {
      "text/plain": [
       "Year                             0\n",
       "Country                          0\n",
       "Region                           0\n",
       "Happiness Rank                   0\n",
       "Happiness Score                  0\n",
       "Economy (GDP per Capita)         0\n",
       "Family                           0\n",
       "Health (Life Expectancy)         0\n",
       "Freedom                          0\n",
       "Trust (Government Corruption)    0\n",
       "Generosity                       0\n",
       "dtype: int64"
      ]
     },
     "execution_count": 28,
     "metadata": {},
     "output_type": "execute_result"
    }
   ],
   "source": [
    "df_merged.isnull().sum()"
   ]
  },
  {
   "cell_type": "code",
   "execution_count": 30,
   "id": "ee5d843f",
   "metadata": {},
   "outputs": [],
   "source": [
    "# Finding duplicates\n",
    "\n",
    "df_dups = df_merged[df_merged.duplicated()]"
   ]
  },
  {
   "cell_type": "code",
   "execution_count": 31,
   "id": "686be6a7",
   "metadata": {},
   "outputs": [
    {
     "data": {
      "text/html": [
       "<div>\n",
       "<style scoped>\n",
       "    .dataframe tbody tr th:only-of-type {\n",
       "        vertical-align: middle;\n",
       "    }\n",
       "\n",
       "    .dataframe tbody tr th {\n",
       "        vertical-align: top;\n",
       "    }\n",
       "\n",
       "    .dataframe thead th {\n",
       "        text-align: right;\n",
       "    }\n",
       "</style>\n",
       "<table border=\"1\" class=\"dataframe\">\n",
       "  <thead>\n",
       "    <tr style=\"text-align: right;\">\n",
       "      <th></th>\n",
       "      <th>Year</th>\n",
       "      <th>Country</th>\n",
       "      <th>Region</th>\n",
       "      <th>Happiness Rank</th>\n",
       "      <th>Happiness Score</th>\n",
       "      <th>Economy (GDP per Capita)</th>\n",
       "      <th>Family</th>\n",
       "      <th>Health (Life Expectancy)</th>\n",
       "      <th>Freedom</th>\n",
       "      <th>Trust (Government Corruption)</th>\n",
       "      <th>Generosity</th>\n",
       "    </tr>\n",
       "  </thead>\n",
       "  <tbody>\n",
       "  </tbody>\n",
       "</table>\n",
       "</div>"
      ],
      "text/plain": [
       "Empty DataFrame\n",
       "Columns: [Year, Country, Region, Happiness Rank, Happiness Score, Economy (GDP per Capita), Family, Health (Life Expectancy), Freedom, Trust (Government Corruption), Generosity]\n",
       "Index: []"
      ]
     },
     "execution_count": 31,
     "metadata": {},
     "output_type": "execute_result"
    }
   ],
   "source": [
    "df_dups"
   ]
  },
  {
   "cell_type": "code",
   "execution_count": 32,
   "id": "72a16aca",
   "metadata": {},
   "outputs": [],
   "source": [
    "# Exporting data\n",
    "\n",
    "df_merged.to_csv(os.path.join(path, '02 Data', 'Prepared Data', 'whr.csv'))"
   ]
  },
  {
   "cell_type": "code",
   "execution_count": null,
   "id": "1ef60e78",
   "metadata": {},
   "outputs": [],
   "source": []
  }
 ],
 "metadata": {
  "kernelspec": {
   "display_name": "Python 3 (ipykernel)",
   "language": "python",
   "name": "python3"
  },
  "language_info": {
   "codemirror_mode": {
    "name": "ipython",
    "version": 3
   },
   "file_extension": ".py",
   "mimetype": "text/x-python",
   "name": "python",
   "nbconvert_exporter": "python",
   "pygments_lexer": "ipython3",
   "version": "3.11.5"
  }
 },
 "nbformat": 4,
 "nbformat_minor": 5
}
